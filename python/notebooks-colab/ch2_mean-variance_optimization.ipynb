{
  "cells": [
    {
      "cell_type": "markdown",
      "metadata": {
        "id": "__3rbHDBQGbN"
      },
      "source": [
        "LaTeX macros (hidden cell)\n",
        "$\n",
        "\\newcommand{\\Q}{\\mathcal{Q}}\n",
        "\\newcommand{\\ECov}{\\boldsymbol{\\Sigma}}\n",
        "\\newcommand{\\EMean}{\\boldsymbol{\\mu}}\n",
        "\\newcommand{\\EAlpha}{\\boldsymbol{\\alpha}}\n",
        "\\newcommand{\\EBeta}{\\boldsymbol{\\beta}}\n",
        "$"
      ]
    },
    {
      "cell_type": "markdown",
      "metadata": {
        "id": "L0EV9NFdQGbO"
      },
      "source": [
        "# Imports and configuration"
      ]
    },
    {
      "cell_type": "code",
      "execution_count": 1,
      "metadata": {
        "scrolled": true,
        "id": "-ofUAb-sQGbO",
        "outputId": "dcd9e4df-739e-4f61-f788-38846fb4bb52",
        "colab": {
          "base_uri": "https://localhost:8080/"
        }
      },
      "outputs": [
        {
          "output_type": "stream",
          "name": "stderr",
          "text": [
            "--2025-03-13 11:25:30--  https://raw.githubusercontent.com/MOSEK/PortfolioOptimization/main/python/notebooks/portfolio_tools.py\n",
            "Resolving raw.githubusercontent.com (raw.githubusercontent.com)... 185.199.109.133, 185.199.111.133, 185.199.108.133, ...\n",
            "Connecting to raw.githubusercontent.com (raw.githubusercontent.com)|185.199.109.133|:443... connected.\n",
            "HTTP request sent, awaiting response... 200 OK\n",
            "Length: 7292 (7.1K) [text/plain]\n",
            "Saving to: ‘portfolio_tools.py’\n",
            "\n",
            "     0K .......                                               100% 28.3M=0s\n",
            "\n",
            "2025-03-13 11:25:31 (28.3 MB/s) - ‘portfolio_tools.py’ saved [7292/7292]\n",
            "\n"
          ]
        }
      ],
      "source": [
        "%%bash\n",
        "FILE=/content/portfolio_tools.py\n",
        "if [[ ! -f $FILE ]]; then\n",
        "    wget https://raw.githubusercontent.com/MOSEK/PortfolioOptimization/main/python/notebooks/portfolio_tools.py\n",
        "fi"
      ]
    },
    {
      "cell_type": "code",
      "execution_count": 2,
      "metadata": {
        "id": "joFtnhrEQGbP",
        "outputId": "68628cf1-4281-46ef-f85e-516c5ca63b95",
        "colab": {
          "base_uri": "https://localhost:8080/"
        }
      },
      "outputs": [
        {
          "output_type": "stream",
          "name": "stdout",
          "text": [
            "Collecting mosek\n",
            "  Downloading mosek-11.0.12-cp39-abi3-manylinux2014_x86_64.whl.metadata (698 bytes)\n",
            "Requirement already satisfied: numpy in /usr/local/lib/python3.11/dist-packages (from mosek) (1.26.4)\n",
            "Downloading mosek-11.0.12-cp39-abi3-manylinux2014_x86_64.whl (14.7 MB)\n",
            "\u001b[2K   \u001b[90m━━━━━━━━━━━━━━━━━━━━━━━━━━━━━━━━━━━━━━━━\u001b[0m \u001b[32m14.7/14.7 MB\u001b[0m \u001b[31m88.7 MB/s\u001b[0m eta \u001b[36m0:00:00\u001b[0m\n",
            "\u001b[?25hInstalling collected packages: mosek\n",
            "Successfully installed mosek-11.0.12\n",
            "env: PYTHONPATH=/env/python:/content\n",
            "Mounted at /content/gdrive\n",
            "env: MOSEKLM_LICENSE_FILE=/content/gdrive/My Drive/mosek/mosek.lic\n"
          ]
        }
      ],
      "source": [
        "%pip install mosek\n",
        "%env PYTHONPATH /env/python:/content\n",
        "#%env MOSEKLM_LICENSE_FILE /content/mosek.lic:/root/mosek/mosek.lic\n",
        "from google.colab import drive\n",
        "drive.mount('/content/gdrive')\n",
        "%env MOSEKLM_LICENSE_FILE /content/gdrive/My Drive/mosek/mosek.lic\n",
        "\n",
        "\n",
        "# To execute the notebook directly in colab make sure your MOSEK license file is in one the locations\n",
        "#\n",
        "# /content/mosek.lic   or   /root/mosek/mosek.lic\n",
        "#\n",
        "# inside this notebook's internal filesystem.\n",
        "#\n",
        "# You will also need an API key from a stock data provider, or ready data files in a \"stock_data\" folder."
      ]
    },
    {
      "cell_type": "code",
      "execution_count": 3,
      "metadata": {
        "scrolled": false,
        "id": "O1g6Mp2LQGbQ"
      },
      "outputs": [],
      "source": [
        "import sys\n",
        "import os\n",
        "import re\n",
        "import glob\n",
        "import datetime as dt\n",
        "\n",
        "import numpy as np\n",
        "import pandas as pd\n",
        "%matplotlib inline\n",
        "import matplotlib\n",
        "import matplotlib.pyplot as plt\n",
        "from matplotlib.colors import LinearSegmentedColormap\n",
        "\n",
        "from mosek.fusion import *\n",
        "import mosek.fusion.pythonic    # From Mosek >= 10.2\n",
        "\n",
        "from notebook.services.config import ConfigManager\n",
        "\n",
        "# portfolio_tools.py is a Mosek helper file distributed together with the notebooks\n",
        "from portfolio_tools import data_download, DataReader"
      ]
    },
    {
      "cell_type": "code",
      "execution_count": null,
      "metadata": {
        "id": "jzbJQMAYQGbQ"
      },
      "outputs": [],
      "source": [
        "# Version checks\n",
        "print(sys.version)\n",
        "print('matplotlib: {}'.format(matplotlib.__version__))\n",
        "\n",
        "# Jupyter configuration\n",
        "c = ConfigManager()\n",
        "c.update('notebook', {\"CodeCell\": {\"cm_config\": {\"autoCloseBrackets\": False}}})\n",
        "\n",
        "# Numpy options\n",
        "np.set_printoptions(precision=5, linewidth=120, suppress=True)\n",
        "\n",
        "# Pandas options\n",
        "pd.set_option('display.max_rows', None)\n",
        "\n",
        "# Matplotlib options\n",
        "plt.rcParams['figure.figsize'] = [12, 8]\n",
        "plt.rcParams['figure.dpi'] = 200"
      ]
    },
    {
      "cell_type": "markdown",
      "metadata": {
        "id": "1nby1dqUQGbQ"
      },
      "source": [
        "# Prepare input data"
      ]
    },
    {
      "cell_type": "markdown",
      "metadata": {
        "id": "CF_TZc_fQGbR"
      },
      "source": [
        "In this example, the input data is given. It consists of the vector $\\EMean$ of expected returns, and the covariance matrix $\\ECov$."
      ]
    },
    {
      "cell_type": "code",
      "execution_count": null,
      "metadata": {
        "id": "k8a78QiqQGbR"
      },
      "outputs": [],
      "source": [
        "# Linear return statistics on the investment horizon\n",
        "mu = np.array([0.07197349, 0.15518171, 0.17535435, 0.0898094 , 0.42895777, 0.39291844, 0.32170722, 0.18378628])\n",
        "Sigma = np.array([\n",
        "        [0.09460323, 0.03735969, 0.03488376, 0.03483838, 0.05420885, 0.03682539, 0.03209623, 0.03271886],\n",
        "        [0.03735969, 0.07746293, 0.03868215, 0.03670678, 0.03816653, 0.03634422, 0.0356449 , 0.03422235],\n",
        "        [0.03488376, 0.03868215, 0.06241065, 0.03364444, 0.03949475, 0.03690811, 0.03383847, 0.02433733],\n",
        "        [0.03483838, 0.03670678, 0.03364444, 0.06824955, 0.04017978, 0.03348263, 0.04360484, 0.03713009],\n",
        "        [0.05420885, 0.03816653, 0.03949475, 0.04017978, 0.17243352, 0.07886889, 0.06999607, 0.05010711],\n",
        "        [0.03682539, 0.03634422, 0.03690811, 0.03348263, 0.07886889, 0.09093307, 0.05364518, 0.04489357],\n",
        "        [0.03209623, 0.0356449 , 0.03383847, 0.04360484, 0.06999607, 0.05364518, 0.09649728, 0.04419974],\n",
        "        [0.03271886, 0.03422235, 0.02433733, 0.03713009, 0.05010711, 0.04489357, 0.04419974, 0.08159633]\n",
        "      ])"
      ]
    },
    {
      "cell_type": "markdown",
      "metadata": {
        "id": "t29D0-N6QGbR"
      },
      "source": [
        "# Define the optimization model"
      ]
    },
    {
      "cell_type": "markdown",
      "metadata": {
        "id": "Ck1HHrIqQGbR"
      },
      "source": [
        "The optimization problem we would like to solve is\n",
        "$$\n",
        "    \\begin{array}{lrcl}\n",
        "    \\mbox{maximize}     & \\EMean^\\mathsf{T}\\mathbf{x}       &          &\\\\\n",
        "    \\mbox{subject to}   & \\left(\\gamma^2, \\frac{1}{2}, \\mathbf{G}^\\mathsf{T}\\mathbf{x}\\right)      & \\in      & \\Q_\\mathrm{r}^{N+2},\\\\\n",
        "                        & \\mathbf{1}^\\mathsf{T}\\mathbf{x}                & =        & 1,\\\\\n",
        "                        & \\mathbf{x}                                     & \\geq     & 0.\\\\\n",
        "    \\end{array}\n",
        "$$\n",
        "\n",
        "Here we define this model in MOSEK Fusion."
      ]
    },
    {
      "cell_type": "code",
      "execution_count": null,
      "metadata": {
        "id": "nUGh1sVQQGbR"
      },
      "outputs": [],
      "source": [
        "# Define function solving the optimization model\n",
        "def Markowitz(N, m, G, gamma2):\n",
        "    with Model(\"markowitz\") as M:\n",
        "        # Settings\n",
        "        M.setLogHandler(sys.stdout)\n",
        "\n",
        "        # Decision variable (fraction of holdings in each security)\n",
        "        # The variable x is restricted to be positive, which imposes the constraint of no short-selling.\n",
        "        x = M.variable(\"x\", N, Domain.greaterThan(0.0))\n",
        "\n",
        "        # Budget constraint\n",
        "        M.constraint('budget', Expr.sum(x) == 1)\n",
        "\n",
        "        # Objective\n",
        "        M.objective('obj', ObjectiveSense.Maximize, x.T @ m)\n",
        "\n",
        "        # Imposes a bound on the risk\n",
        "        M.constraint('risk', Expr.vstack(gamma2, 0.5, G.T @ x), Domain.inRotatedQCone())\n",
        "\n",
        "        # Solve optimization\n",
        "        M.solve()\n",
        "\n",
        "        # Check if the solution is an optimal point\n",
        "        solsta = M.getPrimalSolutionStatus()\n",
        "        if (solsta != SolutionStatus.Optimal):\n",
        "            # See https://docs.mosek.com/latest/pythonfusion/accessing-solution.html about handling solution statuses.\n",
        "            raise Exception(\"Unexpected solution status!\")\n",
        "\n",
        "        returns = M.primalObjValue()\n",
        "        portfolio = x.level()\n",
        "\n",
        "    return returns, portfolio"
      ]
    },
    {
      "cell_type": "markdown",
      "metadata": {
        "id": "EwzrYsovQGbS"
      },
      "source": [
        "# Run the optimization"
      ]
    },
    {
      "cell_type": "markdown",
      "metadata": {
        "id": "Xiq_gwxzQGbS"
      },
      "source": [
        "## Define the parameters"
      ]
    },
    {
      "cell_type": "markdown",
      "metadata": {
        "id": "qi3UMAeNQGbS"
      },
      "source": [
        "The problem parameters are the number of securities $N$ and the risk limit $\\gamma^2$."
      ]
    },
    {
      "cell_type": "code",
      "execution_count": null,
      "metadata": {
        "id": "2IJCW6rUQGbS"
      },
      "outputs": [],
      "source": [
        "N = mu.shape[0]  # Number of securities\n",
        "gamma2 = 0.05   # Risk limit (variance)"
      ]
    },
    {
      "cell_type": "markdown",
      "metadata": {
        "id": "363nJY9RQGbS"
      },
      "source": [
        "## Factorize the covariance matrix"
      ]
    },
    {
      "cell_type": "markdown",
      "metadata": {
        "id": "P-1pIgyQQGbS"
      },
      "source": [
        "Here we factorize $\\ECov$ because the model is defined in conic form, and it expects a matrix $G$ such that $\\ECov = GG^\\mathsf{T}$."
      ]
    },
    {
      "cell_type": "code",
      "execution_count": null,
      "metadata": {
        "id": "qLlV-QH_QGbS"
      },
      "outputs": [],
      "source": [
        "G = np.linalg.cholesky(Sigma)  # Cholesky factor of S to use in conic risk constraint"
      ]
    },
    {
      "cell_type": "markdown",
      "metadata": {
        "id": "8IToNKiHQGbS"
      },
      "source": [
        "## Solve the optimization problem"
      ]
    },
    {
      "cell_type": "markdown",
      "metadata": {
        "id": "IbBlHer0QGbS"
      },
      "source": [
        "Next we call the function that defines the Fusion model and runs the optimization."
      ]
    },
    {
      "cell_type": "code",
      "execution_count": null,
      "metadata": {
        "scrolled": false,
        "id": "N4m1MKOKQGbS"
      },
      "outputs": [],
      "source": [
        "# Run optimization\n",
        "f, x = Markowitz(N, mu, G, gamma2)\n",
        "print(\"========================\\n\")\n",
        "print(\"RESULTS:\")\n",
        "print(f\"Optimal expected portfolio return: {f*100:.4f}%\")\n",
        "print(f\"Optimal portfolio weights: {x}\")\n",
        "print(f\"Sum of weights: {np.sum(x)}\")"
      ]
    },
    {
      "cell_type": "markdown",
      "metadata": {
        "id": "7Cjuqy_bQGbT"
      },
      "source": [
        "# Test result"
      ]
    },
    {
      "cell_type": "code",
      "execution_count": null,
      "metadata": {
        "scrolled": true,
        "id": "m1SvBJmQQGbT"
      },
      "outputs": [],
      "source": [
        "expected_x = np.array([0., 0.09126, 0.26911, 0., 0.02531, 0.32162, 0.17652, 0.11618])\n",
        "diff = np.sum(np.abs(expected_x - x))\n",
        "assert diff < 1e-4, f\"Resulting portfolio does not match expected one. Difference is {diff}\""
      ]
    }
  ],
  "metadata": {
    "kernelspec": {
      "display_name": "Python 3 (ipykernel)",
      "language": "python",
      "name": "python3"
    },
    "language_info": {
      "codemirror_mode": {
        "name": "ipython",
        "version": 3
      },
      "file_extension": ".py",
      "mimetype": "text/x-python",
      "name": "python",
      "nbconvert_exporter": "python",
      "pygments_lexer": "ipython3",
      "version": "3.9.7"
    },
    "colab": {
      "provenance": []
    }
  },
  "nbformat": 4,
  "nbformat_minor": 0
}